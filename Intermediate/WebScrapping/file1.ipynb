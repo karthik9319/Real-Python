{
 "metadata": {
  "language_info": {
   "codemirror_mode": {
    "name": "ipython",
    "version": 3
   },
   "file_extension": ".py",
   "mimetype": "text/x-python",
   "name": "python",
   "nbconvert_exporter": "python",
   "pygments_lexer": "ipython3",
   "version": "3.8.5-final"
  },
  "orig_nbformat": 2,
  "kernelspec": {
   "name": "python_defaultSpec_1600201033193",
   "display_name": "Python 3.7.7 64-bit ('anaconda3': virtualenv)"
  }
 },
 "nbformat": 4,
 "nbformat_minor": 2,
 "cells": [
  {
   "source": [
    "## Your First Web Scraper"
   ],
   "cell_type": "markdown",
   "metadata": {}
  },
  {
   "cell_type": "code",
   "execution_count": 4,
   "metadata": {},
   "outputs": [],
   "source": [
    "from urllib.request import urlopen"
   ]
  },
  {
   "cell_type": "code",
   "execution_count": 5,
   "metadata": {},
   "outputs": [],
   "source": [
    "url = \"http://olympus.realpython.org/profiles/aphrodite\"\n",
    "page = urlopen(url)"
   ]
  },
  {
   "cell_type": "code",
   "execution_count": 6,
   "metadata": {},
   "outputs": [
    {
     "output_type": "execute_result",
     "data": {
      "text/plain": "<http.client.HTTPResponse at 0x106aca5b0>"
     },
     "metadata": {},
     "execution_count": 6
    }
   ],
   "source": [
    "page"
   ]
  },
  {
   "cell_type": "code",
   "execution_count": 7,
   "metadata": {},
   "outputs": [],
   "source": [
    "html_bytes = page.read()\n",
    "html = html_bytes.decode('utf-8')"
   ]
  },
  {
   "cell_type": "code",
   "execution_count": 8,
   "metadata": {
    "tags": []
   },
   "outputs": [
    {
     "output_type": "stream",
     "name": "stdout",
     "text": "<html>\n<head>\n<title>Profile: Aphrodite</title>\n</head>\n<body bgcolor=\"yellow\">\n<center>\n<br><br>\n<img src=\"/static/aphrodite.gif\" />\n<h2>Name: Aphrodite</h2>\n<br><br>\nFavorite animal: Dove\n<br><br>\nFavorite color: Red\n<br><br>\nHometown: Mount Olympus\n</center>\n</body>\n</html>\n\n"
    }
   ],
   "source": [
    "print(html)"
   ]
  },
  {
   "source": [
    "## Extract Text From HTML With String Methods"
   ],
   "cell_type": "markdown",
   "metadata": {}
  },
  {
   "cell_type": "code",
   "execution_count": 13,
   "metadata": {},
   "outputs": [
    {
     "output_type": "execute_result",
     "data": {
      "text/plain": "21"
     },
     "metadata": {},
     "execution_count": 13
    }
   ],
   "source": [
    "start_title = html.find(\"<title>\") + len(\"<title>\")\n",
    "start_title"
   ]
  },
  {
   "cell_type": "code",
   "execution_count": 11,
   "metadata": {},
   "outputs": [
    {
     "output_type": "execute_result",
     "data": {
      "text/plain": "39"
     },
     "metadata": {},
     "execution_count": 11
    }
   ],
   "source": [
    "end_title = html.find(\"</title>\")\n",
    "end_title"
   ]
  },
  {
   "cell_type": "code",
   "execution_count": 14,
   "metadata": {},
   "outputs": [
    {
     "output_type": "execute_result",
     "data": {
      "text/plain": "'Profile: Aphrodite'"
     },
     "metadata": {},
     "execution_count": 14
    }
   ],
   "source": [
    "title = html[21:39]\n",
    "title"
   ]
  },
  {
   "cell_type": "code",
   "execution_count": 15,
   "metadata": {},
   "outputs": [],
   "source": [
    "url1 = \"http://olympus.realpython.org/profiles/poseidon\""
   ]
  },
  {
   "cell_type": "code",
   "execution_count": 17,
   "metadata": {},
   "outputs": [
    {
     "output_type": "execute_result",
     "data": {
      "text/plain": "'<html>\\n<head>\\n<title >Profile: Poseidon</title>\\n</head>\\n<body bgcolor=\"yellow\">\\n<center>\\n<br><br>\\n<img src=\"/static/poseidon.jpg\" />\\n<h2>Name: Poseidon</h2>\\n<br><br>\\nFavorite animal: Dolphin\\n<br><br>\\nFavorite color: Blue\\n<br><br>\\nHometown: Sea\\n</center>\\n</body>\\n</html>\\n'"
     },
     "metadata": {},
     "execution_count": 17
    }
   ],
   "source": [
    "page1 = urlopen(url1)\n",
    "html_bytes1 = page1.read()\n",
    "html1 = html_bytes1.decode('utf-8') \n",
    "html1\n"
   ]
  },
  {
   "cell_type": "code",
   "execution_count": 20,
   "metadata": {},
   "outputs": [],
   "source": [
    "start_title1 = html1.find(\" <title>\") + len(\"<title>\")\n",
    "end_title1 = html1.find(\"</title>\")"
   ]
  },
  {
   "cell_type": "code",
   "execution_count": 21,
   "metadata": {},
   "outputs": [
    {
     "output_type": "execute_result",
     "data": {
      "text/plain": "'\\n<head>\\n<title >Profile: Poseidon'"
     },
     "metadata": {},
     "execution_count": 21
    }
   ],
   "source": [
    "title1 = html1[start_title1:end_title1]\n",
    "title1"
   ]
  },
  {
   "source": [
    "## A Primer on Regular Expressions"
   ],
   "cell_type": "markdown",
   "metadata": {}
  },
  {
   "cell_type": "code",
   "execution_count": 24,
   "metadata": {},
   "outputs": [
    {
     "output_type": "execute_result",
     "data": {
      "text/plain": "['ac']"
     },
     "metadata": {},
     "execution_count": 24
    }
   ],
   "source": [
    "import re\n",
    "re.findall(\"ab*c\", \"ac\")"
   ]
  },
  {
   "cell_type": "code",
   "execution_count": 33,
   "metadata": {},
   "outputs": [
    {
     "output_type": "execute_result",
     "data": {
      "text/plain": "['ac']"
     },
     "metadata": {},
     "execution_count": 33
    }
   ],
   "source": [
    "re.findall(\"ab*c\", \"aac\")"
   ]
  },
  {
   "source": [
    "#todo https://www.geeksforgeeks.org/python-regex-re-search-vs-re-findall/"
   ],
   "cell_type": "code",
   "metadata": {},
   "execution_count": 34,
   "outputs": []
  },
  {
   "cell_type": "code",
   "execution_count": null,
   "metadata": {},
   "outputs": [],
   "source": []
  }
 ]
}